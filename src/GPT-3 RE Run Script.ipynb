{
 "cells": [
  {
   "cell_type": "code",
   "execution_count": 2,
   "metadata": {
    "pycharm": {
     "name": "#%%\n"
    }
   },
   "outputs": [],
   "source": [
    "import pandas as pd\n",
    "import json\n",
    "from gpt3_utils import *\n",
    "\n",
    "import numpy as np\n",
    "import lime\n",
    "import torch\n",
    "import torch.nn.functional as F\n",
    "from lime.lime_text import *\n",
    "import scipy\n",
    "import itertools\n",
    "import ipdb"
   ]
  },
  {
   "cell_type": "code",
   "execution_count": 109,
   "metadata": {
    "pycharm": {
     "name": "#%%\n"
    }
   },
   "outputs": [],
   "source": [
    "alternative_runs = []"
   ]
  },
  {
   "cell_type": "code",
   "execution_count": 317,
   "metadata": {
    "pycharm": {
     "name": "#%%\n"
    }
   },
   "outputs": [],
   "source": [
    "pd.set_option('max_columns',40,'max_colwidth',400,'max_rows',100)"
   ]
  },
  {
   "cell_type": "code",
   "execution_count": 4,
   "metadata": {
    "pycharm": {
     "name": "#%%\n"
    }
   },
   "outputs": [],
   "source": [
    "#Define which dev set output to load to run GPT-3 on\n",
    "#Run test model first\n",
    "\n",
    "run_dir = '../outputs/DDI/gpt3/0/cv/0/'\n",
    "dev_ddi = pd.read_csv(run_dir+'gpt3.output.csv',sep='\\t',index_col=0)"
   ]
  },
  {
   "cell_type": "code",
   "execution_count": 5,
   "metadata": {
    "pycharm": {
     "name": "#%%\n"
    }
   },
   "outputs": [],
   "source": [
    "params = json.load(open(run_dir+'params.json','r'))"
   ]
  },
  {
   "cell_type": "code",
   "execution_count": 6,
   "metadata": {
    "pycharm": {
     "name": "#%%\n"
    }
   },
   "outputs": [],
   "source": [
    "label_verbalizer = params['label_verbalizer']\n",
    "label_list = np.sort(list(label_verbalizer.keys()),kind='stable')\n",
    "verbalized_labels = [label_verbalizer[l] for l in label_list]\n",
    "first_token_verbalized_labels = [tokenizer.decode(tokenizer.encode(\" \" + label)[0]) for label in verbalized_labels]"
   ]
  },
  {
   "cell_type": "code",
   "execution_count": 7,
   "metadata": {
    "pycharm": {
     "name": "#%%\n"
    }
   },
   "outputs": [],
   "source": [
    "in_context_rel_dist = []\n",
    "true_label_percentage = []\n",
    "\n",
    "for i,row in dev_ddi.iterrows():\n",
    "    final_input = row.final_input_prompts\n",
    "    \n",
    "    prompt_rels = []\n",
    "\n",
    "    lines = final_input.split('\\n')\n",
    "    for line in lines:\n",
    "        if 'Interaction:' in line:\n",
    "\n",
    "            rel = line.split('Interaction:')[-1]\n",
    "            if rel.strip() != '':\n",
    "                prompt_rels.append(rel.strip())\n",
    "\n",
    "    in_context_rel_dist.append(prompt_rels)\n",
    "    true_label_percentage.append(len(np.where(row.verbalized_label == np.array(prompt_rels))[0])/len(prompt_rels))\n",
    "    \n",
    "dev_ddi['in_context_rel_dist'] = in_context_rel_dist\n",
    "dev_ddi['true_label_percentage'] = true_label_percentage"
   ]
  },
  {
   "cell_type": "code",
   "execution_count": 8,
   "metadata": {
    "pycharm": {
     "name": "#%%\n"
    }
   },
   "outputs": [],
   "source": [
    "knn_results = []\n",
    "knn_correct_pseudo = []\n",
    "knn_correct = []\n",
    "\n",
    "for i,row in dev_ddi.iterrows():\n",
    "    prompt_rels = row.in_context_rel_dist\n",
    "    \n",
    "    prompt_rels = pd.DataFrame(prompt_rels,columns=['rel'])\n",
    "    prompt_rels['count'] = 1\n",
    "    \n",
    "    prompt_rels = prompt_rels.groupby('rel').count()\n",
    "    max_rel = prompt_rels['count'].max()\n",
    "    \n",
    "    selected_rels = prompt_rels[prompt_rels['count'] == max_rel].index.values\n",
    "    \n",
    "    knn_results.append(selected_rels)\n",
    "    \n",
    "    pred = row.predictions\n",
    "    \n",
    "    if pred in selected_rels:\n",
    "        if len(selected_rels) == 1:\n",
    "            knn_correct.append(1)\n",
    "        else:\n",
    "            knn_correct.append(0)\n",
    "        knn_correct_pseudo.append(1/len(selected_rels))\n",
    "    else:\n",
    "        knn_correct.append(0)\n",
    "        knn_correct_pseudo.append(0)"
   ]
  },
  {
   "cell_type": "code",
   "execution_count": 9,
   "metadata": {
    "pycharm": {
     "name": "#%%\n"
    }
   },
   "outputs": [],
   "source": [
    "dev_ddi['knn_results'] = knn_results\n",
    "dev_ddi['knn_correct_pseudo'] = knn_correct_pseudo\n",
    "dev_ddi['knn_correct'] = knn_correct"
   ]
  },
  {
   "cell_type": "code",
   "execution_count": 10,
   "metadata": {
    "pycharm": {
     "name": "#%%\n"
    }
   },
   "outputs": [],
   "source": [
    "dev_ddi['gpt3_correct'] = dev_ddi.predictions == dev_ddi.verbalized_label"
   ]
  },
  {
   "cell_type": "code",
   "execution_count": 282,
   "metadata": {
    "pycharm": {
     "name": "#%%\n"
    }
   },
   "outputs": [],
   "source": [
    "testing = dev_ddi.loc[[35]]"
   ]
  },
  {
   "cell_type": "code",
   "execution_count": 196,
   "metadata": {
    "pycharm": {
     "name": "#%%\n"
    }
   },
   "outputs": [],
   "source": [
    "#If changing the in-context examples\n",
    "\n",
    "prompt_to_choose = [5,1,2,3,4] #List of indices to use as prompt\n",
    "\n",
    "new_test_ready_prompts = []\n",
    "\n",
    "for i, row in testing.iterrows():\n",
    "    \n",
    "    samples = [dev_ddi.loc[ind].prompts for ind in prompt_to_choose]\n",
    "                \n",
    "    new_test_prompt = samples\n",
    "    new_test_prompt.append(row.empty_prompts)\n",
    "    new_test_prompt = '\\n\\n'.join(new_test_prompt)\n",
    "    \n",
    "    new_test_ready_prompts.append(new_test_prompt)"
   ]
  },
  {
   "cell_type": "code",
   "execution_count": 119,
   "metadata": {
    "pycharm": {
     "name": "#%%\n"
    }
   },
   "outputs": [],
   "source": [
    "#If changing the text of the test sample\n",
    "\n",
    "new_text = \"Other strong inhibitors of CYP3A4 (e.g., itraconazole, clarithromycin, nefazodone, troleandomycin, ritonavir, nelfinavir) would be ____ ____ ____ similarly.\"\n",
    "\n",
    "new_test_ready_prompts = []\n",
    "new_empty_prompts = []\n",
    "\n",
    "for i, row in testing.iterrows():\n",
    "    sent = row['sents'] \n",
    "    \n",
    "    full_prompt = row['test_ready_prompts']\n",
    "    full_prompt = full_prompt.replace(sent, new_text)\n",
    "    \n",
    "    empty_prompt = row['empty_prompts']\n",
    "    empty_prompt = empty_prompt.replace(sent, new_text)\n",
    "    \n",
    "    new_test_ready_prompts.append(full_prompt)\n",
    "    new_empty_prompts.append(empty_prompt)"
   ]
  },
  {
   "cell_type": "code",
   "execution_count": 284,
   "metadata": {
    "pycharm": {
     "name": "#%%\n"
    }
   },
   "outputs": [],
   "source": [
    "#If changing the text of the test sample and the prompt\n",
    "new_full_prompt = \"\"\"Sentence: Ascorbic acid: Doses of ascorbic acid (vitamin C) 1 g/day increase plasma concentration of synthetic estrogens by ~47%, possibly by inhibiting conjugation;\n",
    "Drug 1: vitamin C\n",
    "Drug 2: synthetic estrogens\n",
    "Interaction: mechanism\n",
    "\n",
    "Sentence: Interaction of gentamycin and atracurium in anaesthetised horses.  \n",
    "Drug 1: gentamycin\n",
    "Drug 2: atracurium\n",
    "Interaction: other\n",
    "\n",
    "Sentence: If desipramine hydrochloride is to be combined with other psychotropic agents such as tranquilizers or sedative/hypnotics, careful consideration should be given to the pharmacology of the agents employed since the sedative effects of desipramine and benzodiazepines (e.g., chlordiazepoxide or diazepam) are additive.\n",
    "Drug 1: desipramine\n",
    "Drug 2: benzodiazepines\n",
    "Interaction: effect\n",
    "\n",
    "Sentence: Isoflurane or enflurane administered with nitrous oxide/oxygen to achieve 1.25 MAC [Minimum Alveolar Concentration] may prolong the clinically effective duration of action of initial and maintenance doses of NIMBEX and decrease the required infusion rate of NIMBEX.\n",
    "Drug 1: oxygen\n",
    "Drug 2: NIMBEX\n",
    "Interaction: none\n",
    "\n",
    "Sentence: Levothyroxine Sodium Absorption: The following agents may bind and decrease absorption of clarithromycin from the gastrointestinal tract: aluminum hydoxide, cholestyramine resin, colestipol hydrochloride, ferrous sulfate, sodium polystyrene sulfonate, soybean flour (e.g., infant formula), sucralfate.\n",
    "Drug 1: clarithromycin\n",
    "Drug 2: sucralfate\n",
    "Interaction:\n",
    "\"\"\"\n",
    "new_text = \"\"\"Sentence: Levothyroxine Sodium Absorption: The following agents may bind and decrease absorption of clarithromycin from the gastrointestinal tract: aluminum hydoxide, cholestyramine resin, colestipol hydrochloride, ferrous sulfate, sodium polystyrene sulfonate, soybean flour (e.g., infant formula), sucralfate.\n",
    "Drug 1: clarithromycin\n",
    "Drug 2: sucralfate\n",
    "Interaction:\n",
    "\"\"\"\n",
    "\n",
    "new_test_ready_prompts = []\n",
    "new_empty_prompts = []\n",
    "\n",
    "for i, row in testing.iterrows():\n",
    "    sent = row['sents'] \n",
    "    \n",
    "    full_prompt = new_full_prompt\n",
    "    full_prompt = full_prompt.replace(sent, new_text)\n",
    "    \n",
    "    empty_prompt = new_text\n",
    "    \n",
    "    new_test_ready_prompts.append(full_prompt)\n",
    "    new_empty_prompts.append(empty_prompt)"
   ]
  },
  {
   "cell_type": "code",
   "execution_count": 285,
   "metadata": {
    "pycharm": {
     "name": "#%%\n"
    }
   },
   "outputs": [
    {
     "name": "stdout",
     "output_type": "stream",
     "text": [
      "Sentence: Ascorbic acid: Doses of ascorbic acid (vitamin C) 1 g/day have been reported to increase plasma concentration of synthetic estrogens by ~47%, possibly by inhibiting conjugation;\n",
      "Drug 1: vitamin C\n",
      "Drug 2: synthetic estrogens\n",
      "Interaction: mechanism\n",
      "\n",
      "Sentence: Interaction of gentamycin and atracurium in anaesthetised horses.  \n",
      "Drug 1: gentamycin\n",
      "Drug 2: atracurium\n",
      "Interaction: other\n",
      "\n",
      "Sentence: If desipramine hydrochloride is to be combined with other psychotropic agents such as tranquilizers or sedative/hypnotics, careful consideration should be given to the pharmacology of the agents employed since the sedative effects of desipramine and benzodiazepines (e.g., chlordiazepoxide or diazepam) are additive.\n",
      "Drug 1: desipramine\n",
      "Drug 2: benzodiazepines\n",
      "Interaction: effect\n",
      "\n",
      "Sentence: Agents that are CYP3A4 inhibitors that have been found, or are expected, to increase plasma levels of EQUETROTM are the following: Acetazolamide, azole antifungals, cimetidine, clarithromycin(1), dalfopristin, danazol, delavirdine, diltiazem, erythromycin(1), fluoxetine, fluvoxamine, grapefruit juice, isoniazid, itraconazole, ketoconazole, loratadine, nefazodone, niacinamide, nicotinamide, protease inhibitors, propoxyphene, quinine, quinupristin, troleandomycin, valproate(1), verapamil, zileuton.\n",
      "Drug 1: EQUETROTM\n",
      "Drug 2: erythromycin\n",
      "Interaction: mechanism\n",
      "\n",
      "Sentence: Isoflurane or enflurane administered with nitrous oxide/oxygen to achieve 1.25 MAC [Minimum Alveolar Concentration] may prolong the clinically effective duration of action of initial and maintenance doses of NIMBEX and decrease the required infusion rate of NIMBEX.\n",
      "Drug 1: oxygen\n",
      "Drug 2: NIMBEX\n",
      "Interaction: none\n",
      "\n",
      "Sentence: Other strong inhibitors of CYP3A4 (e.g., itraconazole, clarithromycin, nefazodone, troleandomycin, ritonavir, nelfinavir) would be expected to behave similarly.\n",
      "Drug 1: clarithromycin\n",
      "Drug 2: nelfinavir\n",
      "Interaction:\n",
      "Sentence: Other strong inhibitors of CYP3A4 (e.g., itraconazole, clarithromycin, nefazodone, troleandomycin, ritonavir, nelfinavir) would be expected to behave similarly.\n",
      "Drug 1: clarithromycin\n",
      "Drug 2: nelfinavir\n",
      "Interaction:\n",
      "================================================================================\n",
      "Sentence: Ascorbic acid: Doses of ascorbic acid (vitamin C) 1 g/day increase plasma concentration of synthetic estrogens by ~47%, possibly by inhibiting conjugation;\n",
      "Drug 1: vitamin C\n",
      "Drug 2: synthetic estrogens\n",
      "Interaction: mechanism\n",
      "\n",
      "Sentence: Interaction of gentamycin and atracurium in anaesthetised horses.  \n",
      "Drug 1: gentamycin\n",
      "Drug 2: atracurium\n",
      "Interaction: other\n",
      "\n",
      "Sentence: If desipramine hydrochloride is to be combined with other psychotropic agents such as tranquilizers or sedative/hypnotics, careful consideration should be given to the pharmacology of the agents employed since the sedative effects of desipramine and benzodiazepines (e.g., chlordiazepoxide or diazepam) are additive.\n",
      "Drug 1: desipramine\n",
      "Drug 2: benzodiazepines\n",
      "Interaction: effect\n",
      "\n",
      "Sentence: Isoflurane or enflurane administered with nitrous oxide/oxygen to achieve 1.25 MAC [Minimum Alveolar Concentration] may prolong the clinically effective duration of action of initial and maintenance doses of NIMBEX and decrease the required infusion rate of NIMBEX.\n",
      "Drug 1: oxygen\n",
      "Drug 2: NIMBEX\n",
      "Interaction: none\n",
      "\n",
      "Sentence: Levothyroxine Sodium Absorption: The following agents may bind and decrease absorption of clarithromycin from the gastrointestinal tract: aluminum hydoxide, cholestyramine resin, colestipol hydrochloride, ferrous sulfate, sodium polystyrene sulfonate, soybean flour (e.g., infant formula), sucralfate.\n",
      "Drug 1: clarithromycin\n",
      "Drug 2: sucralfate\n",
      "Interaction:\n",
      "\n",
      "Sentence: Levothyroxine Sodium Absorption: The following agents may bind and decrease absorption of clarithromycin from the gastrointestinal tract: aluminum hydoxide, cholestyramine resin, colestipol hydrochloride, ferrous sulfate, sodium polystyrene sulfonate, soybean flour (e.g., infant formula), sucralfate.\n",
      "Drug 1: clarithromycin\n",
      "Drug 2: sucralfate\n",
      "Interaction:\n",
      "\n"
     ]
    }
   ],
   "source": [
    "print(testing.test_ready_prompts.values[0])\n",
    "print(testing.empty_prompts.values[0])\n",
    "print('='*80)\n",
    "print(new_test_ready_prompts[0])\n",
    "print(new_empty_prompts[0])\n",
    "\n",
    "testing['test_ready_prompts'] = new_test_ready_prompts\n",
    "testing['empty_prompts'] = new_empty_prompts"
   ]
  },
  {
   "cell_type": "code",
   "execution_count": 286,
   "metadata": {
    "pycharm": {
     "name": "#%%\n"
    }
   },
   "outputs": [
    {
     "name": "stderr",
     "output_type": "stream",
     "text": [
      "1it [00:00,  1.00it/s]\n"
     ]
    }
   ],
   "source": [
    "new_results = run_gpt3_re_df(testing, params)"
   ]
  }
 ],
 "metadata": {
  "kernelspec": {
   "display_name": "adr",
   "language": "python",
   "name": "adr"
  },
  "language_info": {
   "codemirror_mode": {
    "name": "ipython",
    "version": 3
   },
   "file_extension": ".py",
   "mimetype": "text/x-python",
   "name": "python",
   "nbconvert_exporter": "python",
   "pygments_lexer": "ipython3",
   "version": "3.7.9"
  }
 },
 "nbformat": 4,
 "nbformat_minor": 4
}