{
 "cells": [
  {
   "cell_type": "code",
   "execution_count": 2,
   "metadata": {
    "pycharm": {
     "name": "#%%\n"
    }
   },
   "outputs": [
    {
     "ename": "ValueError",
     "evalue": "attempted relative import beyond top-level package",
     "output_type": "error",
     "traceback": [
      "\u001B[0;31m---------------------------------------------------------------------------\u001B[0m",
      "\u001B[0;31mValueError\u001B[0m                                Traceback (most recent call last)",
      "\u001B[0;32m<ipython-input-2-370b8efb2aa5>\u001B[0m in \u001B[0;36m<module>\u001B[0;34m\u001B[0m\n\u001B[1;32m      1\u001B[0m \u001B[0;32mimport\u001B[0m \u001B[0mpandas\u001B[0m \u001B[0;32mas\u001B[0m \u001B[0mpd\u001B[0m\u001B[0;34m\u001B[0m\u001B[0;34m\u001B[0m\u001B[0m\n\u001B[1;32m      2\u001B[0m \u001B[0;32mimport\u001B[0m \u001B[0mjson\u001B[0m\u001B[0;34m\u001B[0m\u001B[0;34m\u001B[0m\u001B[0m\n\u001B[0;32m----> 3\u001B[0;31m \u001B[0;32mfrom\u001B[0m \u001B[0;34m.\u001B[0m\u001B[0;34m.\u001B[0m\u001B[0msrc\u001B[0m\u001B[0;34m.\u001B[0m\u001B[0mgpt3_utils\u001B[0m \u001B[0;32mimport\u001B[0m \u001B[0;34m*\u001B[0m\u001B[0;34m\u001B[0m\u001B[0;34m\u001B[0m\u001B[0m\n\u001B[0m",
      "\u001B[0;31mValueError\u001B[0m: attempted relative import beyond top-level package"
     ]
    }
   ],
   "source": [
    "import pandas as pd\n",
    "import json\n",
    "from gpt3_utils import *"
   ]
  },
  {
   "cell_type": "code",
   "execution_count": null,
   "outputs": [],
   "source": [
    "import numpy as np\n",
    "import lime\n",
    "import torch\n",
    "import torch.nn.functional as F\n",
    "from lime.lime_text import *\n",
    "import scipy\n",
    "import itertools\n",
    "import ipdb"
   ],
   "metadata": {
    "collapsed": false,
    "pycharm": {
     "name": "#%%\n"
    }
   }
  },
  {
   "cell_type": "code",
   "execution_count": 2,
   "metadata": {
    "pycharm": {
     "name": "#%%\n"
    }
   },
   "outputs": [],
   "source": [
    "pd.set_option('max_colwidth',500)"
   ]
  },
  {
   "cell_type": "code",
   "execution_count": 3,
   "metadata": {
    "pycharm": {
     "name": "#%%\n"
    }
   },
   "outputs": [],
   "source": [
    "#Define which dev set output to load to run GPT-3 on\n",
    "#Run test model first\n",
    "\n",
    "run_dir = '../outputs/BC5CDR-disease/gpt3/0/cv/0/'\n",
    "dev_ddi = pd.read_csv(run_dir+'gpt3.output.csv',sep='\\t',index_col=0)"
   ]
  },
  {
   "cell_type": "code",
   "execution_count": 5,
   "metadata": {
    "pycharm": {
     "name": "#%%\n"
    }
   },
   "outputs": [],
   "source": [
    "params = json.load(open(run_dir+'params.json','r'))"
   ]
  },
  {
   "cell_type": "code",
   "execution_count": 7,
   "metadata": {
    "pycharm": {
     "name": "#%%\n"
    }
   },
   "outputs": [],
   "source": [
    "dev_ddi['empty'] =  [n == 0 for n in dev_ddi.num_entities]\n",
    "dev_ddi['num_predictions'] = [np.sum([1 if p != '' else 0 for p in eval(preds)]) for preds in dev_ddi.predictions]"
   ]
  },
  {
   "cell_type": "code",
   "execution_count": 8,
   "metadata": {
    "pycharm": {
     "name": "#%%\n"
    }
   },
   "outputs": [],
   "source": [
    "in_context_rel_dist = []\n",
    "null_samples_in_prompts = []\n",
    "\n",
    "for i,row in dev_ddi.iterrows():\n",
    "    final_input = row.final_input_prompts\n",
    "    \n",
    "    prompt_rels = []\n",
    "    null_samples_in_prompt = 0\n",
    "    \n",
    "    lines = final_input.split('\\n')\n",
    "    \n",
    "    for line in lines[:-1]:\n",
    "        if 'Diseases:' in line:\n",
    "\n",
    "            rel = line.split('Diseases:')[-1]\n",
    "            if rel.strip() != '':\n",
    "                prompt_rels.append('['+rel.strip()+']')\n",
    "            else:\n",
    "                prompt_rels.append('\\n')\n",
    "                null_samples_in_prompt += 1\n",
    "\n",
    "    in_context_rel_dist.append(prompt_rels)\n",
    "    null_samples_in_prompts.append(null_samples_in_prompt)\n",
    "    \n",
    "dev_ddi['in_context_rel_dist'] = in_context_rel_dist\n",
    "dev_ddi['num_null_samples'] = null_samples_in_prompts"
   ]
  },
  {
   "cell_type": "code",
   "execution_count": 9,
   "metadata": {
    "pycharm": {
     "name": "#%%\n"
    }
   },
   "outputs": [],
   "source": [
    "prompt_lists = []\n",
    "\n",
    "for i,row in dev_ddi.iterrows():\n",
    "    final_input = row.final_input_prompts\n",
    "    \n",
    "    prompt_rels = []\n",
    "    null_samples_in_prompt = 0\n",
    "    \n",
    "    lines = final_input.split('\\n\\n')\n",
    "    \n",
    "    prompt_lists.append(lines[:-1])\n",
    "\n",
    "dev_ddi['prompt_lists'] = prompt_lists"
   ]
  },
  {
   "cell_type": "code",
   "execution_count": 12,
   "metadata": {
    "pycharm": {
     "name": "#%%\n"
    }
   },
   "outputs": [],
   "source": [
    "testing = dev_ddi.loc[[0]]"
   ]
  },
  {
   "cell_type": "code",
   "execution_count": 15,
   "metadata": {
    "pycharm": {
     "name": "#%%\n"
    }
   },
   "outputs": [],
   "source": [
    "prompt_to_choose = [5,1,2,3,4] #List of indices to use as prompt\n",
    "\n",
    "new_test_ready_prompts = []\n",
    "\n",
    "for i, row in testing.iterrows():\n",
    "    \n",
    "    samples = [dev_ddi.loc[ind].prompts for ind in prompt_to_choose]\n",
    "                \n",
    "    new_test_prompt = samples\n",
    "    new_test_prompt.append(row.empty_prompts)\n",
    "    new_test_prompt = '\\n\\n'.join(new_test_prompt)\n",
    "    \n",
    "    new_test_ready_prompts.append(new_test_prompt)\n",
    "\n",
    "print(testing.test_ready_prompts.values[0])\n",
    "print('='*80)\n",
    "print(new_test_ready_prompts[0])\n",
    "\n",
    "testing['test_ready_prompts'] = new_test_ready_prompts"
   ]
  },
  {
   "cell_type": "code",
   "execution_count": 23,
   "metadata": {
    "pycharm": {
     "name": "#%%\n"
    }
   },
   "outputs": [
    {
     "name": "stderr",
     "output_type": "stream",
     "text": [
      "1it [00:02,  2.18s/it]\n"
     ]
    }
   ],
   "source": [
    "new_results = run_gpt3_ner_df(testing, params)"
   ]
  }
 ],
 "metadata": {
  "kernelspec": {
   "name": "python3",
   "language": "python",
   "display_name": "Python 3"
  },
  "language_info": {
   "codemirror_mode": {
    "name": "ipython",
    "version": 3
   },
   "file_extension": ".py",
   "mimetype": "text/x-python",
   "name": "python",
   "nbconvert_exporter": "python",
   "pygments_lexer": "ipython3",
   "version": "3.7.9"
  }
 },
 "nbformat": 4,
 "nbformat_minor": 4
}